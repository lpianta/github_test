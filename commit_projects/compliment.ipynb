{
 "metadata": {
  "language_info": {
   "codemirror_mode": {
    "name": "ipython",
    "version": 3
   },
   "file_extension": ".py",
   "mimetype": "text/x-python",
   "name": "python",
   "nbconvert_exporter": "python",
   "pygments_lexer": "ipython3",
   "version": "3.8.6-final"
  },
  "orig_nbformat": 2,
  "kernelspec": {
   "name": "python38664bita2c3b62c36c84dcba56bbed418361bd6",
   "display_name": "Python 3.8.6 64-bit"
  }
 },
 "nbformat": 4,
 "nbformat_minor": 2,
 "cells": [
  {
   "cell_type": "code",
   "execution_count": 1,
   "metadata": {},
   "outputs": [
    {
     "output_type": "stream",
     "name": "stdout",
     "text": [
      "Bu, you are really handsome!\n"
     ]
    }
   ],
   "source": [
    "def compliment():\n",
    "    name = input(\"Enter your name:\")\n",
    "    print(f\"{name}, you are really handsome!\")\n",
    "\n",
    "compliment()"
   ]
  }
 ]
}